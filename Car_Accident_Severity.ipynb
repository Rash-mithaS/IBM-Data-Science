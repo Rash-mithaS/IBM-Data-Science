{
  "nbformat": 4,
  "nbformat_minor": 0,
  "metadata": {
    "colab": {
      "name": "Car Accident Severity.ipynb",
      "provenance": [],
      "collapsed_sections": [],
      "toc_visible": true
    },
    "kernelspec": {
      "name": "python3",
      "display_name": "Python 3"
    }
  },
  "cells": [
    {
      "cell_type": "markdown",
      "metadata": {
        "id": "m5toHnlW2rPB",
        "colab_type": "text"
      },
      "source": [
        "# ***Car Accident Severity***\n",
        "\n",
        "---\n"
      ]
    },
    {
      "cell_type": "markdown",
      "metadata": {
        "id": "lksSj3Lw16lr",
        "colab_type": "text"
      },
      "source": [
        "## Extract Data\n"
      ]
    },
    {
      "cell_type": "code",
      "metadata": {
        "id": "a58f2S6q1r-r",
        "colab_type": "code",
        "colab": {}
      },
      "source": [
        "import itertools\n",
        "import numpy as np\n",
        "import matplotlib.pyplot as plt\n",
        "from matplotlib.ticker import NullFormatter\n",
        "import pandas as pd\n",
        "import numpy as np\n",
        "import matplotlib.ticker as ticker\n",
        "from sklearn import preprocessing\n",
        "%matplotlib inline"
      ],
      "execution_count": 47,
      "outputs": []
    },
    {
      "cell_type": "code",
      "metadata": {
        "id": "pbEj4UGQ3YkD",
        "colab_type": "code",
        "colab": {
          "base_uri": "https://localhost:8080/",
          "height": 438
        },
        "outputId": "b3a6f5ba-6a04-4723-abe9-fbffd57708b5"
      },
      "source": [
        "df = pd.read_csv('/content/Data-Collisions.csv')\n",
        "df.head(3)"
      ],
      "execution_count": 48,
      "outputs": [
        {
          "output_type": "execute_result",
          "data": {
            "text/html": [
              "<div>\n",
              "<style scoped>\n",
              "    .dataframe tbody tr th:only-of-type {\n",
              "        vertical-align: middle;\n",
              "    }\n",
              "\n",
              "    .dataframe tbody tr th {\n",
              "        vertical-align: top;\n",
              "    }\n",
              "\n",
              "    .dataframe thead th {\n",
              "        text-align: right;\n",
              "    }\n",
              "</style>\n",
              "<table border=\"1\" class=\"dataframe\">\n",
              "  <thead>\n",
              "    <tr style=\"text-align: right;\">\n",
              "      <th></th>\n",
              "      <th>SEVERITYCODE</th>\n",
              "      <th>X</th>\n",
              "      <th>Y</th>\n",
              "      <th>OBJECTID</th>\n",
              "      <th>INCKEY</th>\n",
              "      <th>COLDETKEY</th>\n",
              "      <th>REPORTNO</th>\n",
              "      <th>STATUS</th>\n",
              "      <th>ADDRTYPE</th>\n",
              "      <th>INTKEY</th>\n",
              "      <th>LOCATION</th>\n",
              "      <th>EXCEPTRSNCODE</th>\n",
              "      <th>EXCEPTRSNDESC</th>\n",
              "      <th>SEVERITYCODE.1</th>\n",
              "      <th>SEVERITYDESC</th>\n",
              "      <th>COLLISIONTYPE</th>\n",
              "      <th>PERSONCOUNT</th>\n",
              "      <th>PEDCOUNT</th>\n",
              "      <th>PEDCYLCOUNT</th>\n",
              "      <th>VEHCOUNT</th>\n",
              "      <th>INCDATE</th>\n",
              "      <th>INCDTTM</th>\n",
              "      <th>JUNCTIONTYPE</th>\n",
              "      <th>SDOT_COLCODE</th>\n",
              "      <th>SDOT_COLDESC</th>\n",
              "      <th>INATTENTIONIND</th>\n",
              "      <th>UNDERINFL</th>\n",
              "      <th>WEATHER</th>\n",
              "      <th>ROADCOND</th>\n",
              "      <th>LIGHTCOND</th>\n",
              "      <th>PEDROWNOTGRNT</th>\n",
              "      <th>SDOTCOLNUM</th>\n",
              "      <th>SPEEDING</th>\n",
              "      <th>ST_COLCODE</th>\n",
              "      <th>ST_COLDESC</th>\n",
              "      <th>SEGLANEKEY</th>\n",
              "      <th>CROSSWALKKEY</th>\n",
              "      <th>HITPARKEDCAR</th>\n",
              "    </tr>\n",
              "  </thead>\n",
              "  <tbody>\n",
              "    <tr>\n",
              "      <th>0</th>\n",
              "      <td>2</td>\n",
              "      <td>-122.323148</td>\n",
              "      <td>47.703140</td>\n",
              "      <td>1</td>\n",
              "      <td>1307</td>\n",
              "      <td>1307</td>\n",
              "      <td>3502005</td>\n",
              "      <td>Matched</td>\n",
              "      <td>Intersection</td>\n",
              "      <td>37475.0</td>\n",
              "      <td>5TH AVE NE AND NE 103RD ST</td>\n",
              "      <td></td>\n",
              "      <td>NaN</td>\n",
              "      <td>2</td>\n",
              "      <td>Injury Collision</td>\n",
              "      <td>Angles</td>\n",
              "      <td>2</td>\n",
              "      <td>0</td>\n",
              "      <td>0</td>\n",
              "      <td>2</td>\n",
              "      <td>2013/03/27 00:00:00+00</td>\n",
              "      <td>3/27/2013 2:54:00 PM</td>\n",
              "      <td>At Intersection (intersection related)</td>\n",
              "      <td>11.0</td>\n",
              "      <td>MOTOR VEHICLE STRUCK MOTOR VEHICLE, FRONT END ...</td>\n",
              "      <td>NaN</td>\n",
              "      <td>N</td>\n",
              "      <td>Overcast</td>\n",
              "      <td>Wet</td>\n",
              "      <td>Daylight</td>\n",
              "      <td>NaN</td>\n",
              "      <td>NaN</td>\n",
              "      <td>NaN</td>\n",
              "      <td>10</td>\n",
              "      <td>Entering at angle</td>\n",
              "      <td>0.0</td>\n",
              "      <td>0.0</td>\n",
              "      <td>N</td>\n",
              "    </tr>\n",
              "    <tr>\n",
              "      <th>1</th>\n",
              "      <td>1</td>\n",
              "      <td>-122.347294</td>\n",
              "      <td>47.647172</td>\n",
              "      <td>2</td>\n",
              "      <td>52200</td>\n",
              "      <td>52200</td>\n",
              "      <td>2607959</td>\n",
              "      <td>Matched</td>\n",
              "      <td>Block</td>\n",
              "      <td>NaN</td>\n",
              "      <td>AURORA BR BETWEEN RAYE ST AND BRIDGE WAY N</td>\n",
              "      <td>NaN</td>\n",
              "      <td>NaN</td>\n",
              "      <td>1</td>\n",
              "      <td>Property Damage Only Collision</td>\n",
              "      <td>Sideswipe</td>\n",
              "      <td>2</td>\n",
              "      <td>0</td>\n",
              "      <td>0</td>\n",
              "      <td>2</td>\n",
              "      <td>2006/12/20 00:00:00+00</td>\n",
              "      <td>12/20/2006 6:55:00 PM</td>\n",
              "      <td>Mid-Block (not related to intersection)</td>\n",
              "      <td>16.0</td>\n",
              "      <td>MOTOR VEHICLE STRUCK MOTOR VEHICLE, LEFT SIDE ...</td>\n",
              "      <td>NaN</td>\n",
              "      <td>0</td>\n",
              "      <td>Raining</td>\n",
              "      <td>Wet</td>\n",
              "      <td>Dark - Street Lights On</td>\n",
              "      <td>NaN</td>\n",
              "      <td>6354039.0</td>\n",
              "      <td>NaN</td>\n",
              "      <td>11</td>\n",
              "      <td>From same direction - both going straight - bo...</td>\n",
              "      <td>0.0</td>\n",
              "      <td>0.0</td>\n",
              "      <td>N</td>\n",
              "    </tr>\n",
              "    <tr>\n",
              "      <th>2</th>\n",
              "      <td>1</td>\n",
              "      <td>-122.334540</td>\n",
              "      <td>47.607871</td>\n",
              "      <td>3</td>\n",
              "      <td>26700</td>\n",
              "      <td>26700</td>\n",
              "      <td>1482393</td>\n",
              "      <td>Matched</td>\n",
              "      <td>Block</td>\n",
              "      <td>NaN</td>\n",
              "      <td>4TH AVE BETWEEN SENECA ST AND UNIVERSITY ST</td>\n",
              "      <td>NaN</td>\n",
              "      <td>NaN</td>\n",
              "      <td>1</td>\n",
              "      <td>Property Damage Only Collision</td>\n",
              "      <td>Parked Car</td>\n",
              "      <td>4</td>\n",
              "      <td>0</td>\n",
              "      <td>0</td>\n",
              "      <td>3</td>\n",
              "      <td>2004/11/18 00:00:00+00</td>\n",
              "      <td>11/18/2004 10:20:00 AM</td>\n",
              "      <td>Mid-Block (not related to intersection)</td>\n",
              "      <td>14.0</td>\n",
              "      <td>MOTOR VEHICLE STRUCK MOTOR VEHICLE, REAR END</td>\n",
              "      <td>NaN</td>\n",
              "      <td>0</td>\n",
              "      <td>Overcast</td>\n",
              "      <td>Dry</td>\n",
              "      <td>Daylight</td>\n",
              "      <td>NaN</td>\n",
              "      <td>4323031.0</td>\n",
              "      <td>NaN</td>\n",
              "      <td>32</td>\n",
              "      <td>One parked--one moving</td>\n",
              "      <td>0.0</td>\n",
              "      <td>0.0</td>\n",
              "      <td>N</td>\n",
              "    </tr>\n",
              "  </tbody>\n",
              "</table>\n",
              "</div>"
            ],
            "text/plain": [
              "   SEVERITYCODE           X          Y  ...  SEGLANEKEY  CROSSWALKKEY  HITPARKEDCAR\n",
              "0             2 -122.323148  47.703140  ...         0.0           0.0             N\n",
              "1             1 -122.347294  47.647172  ...         0.0           0.0             N\n",
              "2             1 -122.334540  47.607871  ...         0.0           0.0             N\n",
              "\n",
              "[3 rows x 38 columns]"
            ]
          },
          "metadata": {
            "tags": []
          },
          "execution_count": 48
        }
      ]
    },
    {
      "cell_type": "code",
      "metadata": {
        "id": "cHlfyThO3hZi",
        "colab_type": "code",
        "colab": {}
      },
      "source": [
        "features=['SEVERITYCODE','COLLISIONTYPE','PERSONCOUNT','VEHCOUNT','WEATHER','ROADCOND', 'LIGHTCOND','SPEEDING']"
      ],
      "execution_count": 49,
      "outputs": []
    },
    {
      "cell_type": "code",
      "metadata": {
        "id": "20ibp-XA62X_",
        "colab_type": "code",
        "colab": {
          "base_uri": "https://localhost:8080/",
          "height": 141
        },
        "outputId": "243eec01-a17f-4ba5-8c08-8bc8386325b5"
      },
      "source": [
        "df=df[features]\n",
        "df.head(3)"
      ],
      "execution_count": 50,
      "outputs": [
        {
          "output_type": "execute_result",
          "data": {
            "text/html": [
              "<div>\n",
              "<style scoped>\n",
              "    .dataframe tbody tr th:only-of-type {\n",
              "        vertical-align: middle;\n",
              "    }\n",
              "\n",
              "    .dataframe tbody tr th {\n",
              "        vertical-align: top;\n",
              "    }\n",
              "\n",
              "    .dataframe thead th {\n",
              "        text-align: right;\n",
              "    }\n",
              "</style>\n",
              "<table border=\"1\" class=\"dataframe\">\n",
              "  <thead>\n",
              "    <tr style=\"text-align: right;\">\n",
              "      <th></th>\n",
              "      <th>SEVERITYCODE</th>\n",
              "      <th>COLLISIONTYPE</th>\n",
              "      <th>PERSONCOUNT</th>\n",
              "      <th>VEHCOUNT</th>\n",
              "      <th>WEATHER</th>\n",
              "      <th>ROADCOND</th>\n",
              "      <th>LIGHTCOND</th>\n",
              "      <th>SPEEDING</th>\n",
              "    </tr>\n",
              "  </thead>\n",
              "  <tbody>\n",
              "    <tr>\n",
              "      <th>0</th>\n",
              "      <td>2</td>\n",
              "      <td>Angles</td>\n",
              "      <td>2</td>\n",
              "      <td>2</td>\n",
              "      <td>Overcast</td>\n",
              "      <td>Wet</td>\n",
              "      <td>Daylight</td>\n",
              "      <td>NaN</td>\n",
              "    </tr>\n",
              "    <tr>\n",
              "      <th>1</th>\n",
              "      <td>1</td>\n",
              "      <td>Sideswipe</td>\n",
              "      <td>2</td>\n",
              "      <td>2</td>\n",
              "      <td>Raining</td>\n",
              "      <td>Wet</td>\n",
              "      <td>Dark - Street Lights On</td>\n",
              "      <td>NaN</td>\n",
              "    </tr>\n",
              "    <tr>\n",
              "      <th>2</th>\n",
              "      <td>1</td>\n",
              "      <td>Parked Car</td>\n",
              "      <td>4</td>\n",
              "      <td>3</td>\n",
              "      <td>Overcast</td>\n",
              "      <td>Dry</td>\n",
              "      <td>Daylight</td>\n",
              "      <td>NaN</td>\n",
              "    </tr>\n",
              "  </tbody>\n",
              "</table>\n",
              "</div>"
            ],
            "text/plain": [
              "   SEVERITYCODE COLLISIONTYPE  ...                LIGHTCOND  SPEEDING\n",
              "0             2        Angles  ...                 Daylight       NaN\n",
              "1             1     Sideswipe  ...  Dark - Street Lights On       NaN\n",
              "2             1    Parked Car  ...                 Daylight       NaN\n",
              "\n",
              "[3 rows x 8 columns]"
            ]
          },
          "metadata": {
            "tags": []
          },
          "execution_count": 50
        }
      ]
    },
    {
      "cell_type": "code",
      "metadata": {
        "id": "Q7CKqZLs6_PA",
        "colab_type": "code",
        "colab": {
          "base_uri": "https://localhost:8080/",
          "height": 35
        },
        "outputId": "288e46fd-7985-4143-cc0d-a17c5420793b"
      },
      "source": [
        "df.shape"
      ],
      "execution_count": 51,
      "outputs": [
        {
          "output_type": "execute_result",
          "data": {
            "text/plain": [
              "(13846, 8)"
            ]
          },
          "metadata": {
            "tags": []
          },
          "execution_count": 51
        }
      ]
    },
    {
      "cell_type": "markdown",
      "metadata": {
        "id": "zEEeRxNFVnYM",
        "colab_type": "text"
      },
      "source": [
        "# Data Wrangling"
      ]
    },
    {
      "cell_type": "code",
      "metadata": {
        "id": "wd3Y7cit7QDH",
        "colab_type": "code",
        "colab": {
          "base_uri": "https://localhost:8080/",
          "height": 202
        },
        "outputId": "2e99ab9c-8db3-412f-e97f-ba8fb5cba057"
      },
      "source": [
        "df1 = df.isnull()\n",
        "df1.head()"
      ],
      "execution_count": 52,
      "outputs": [
        {
          "output_type": "execute_result",
          "data": {
            "text/html": [
              "<div>\n",
              "<style scoped>\n",
              "    .dataframe tbody tr th:only-of-type {\n",
              "        vertical-align: middle;\n",
              "    }\n",
              "\n",
              "    .dataframe tbody tr th {\n",
              "        vertical-align: top;\n",
              "    }\n",
              "\n",
              "    .dataframe thead th {\n",
              "        text-align: right;\n",
              "    }\n",
              "</style>\n",
              "<table border=\"1\" class=\"dataframe\">\n",
              "  <thead>\n",
              "    <tr style=\"text-align: right;\">\n",
              "      <th></th>\n",
              "      <th>SEVERITYCODE</th>\n",
              "      <th>COLLISIONTYPE</th>\n",
              "      <th>PERSONCOUNT</th>\n",
              "      <th>VEHCOUNT</th>\n",
              "      <th>WEATHER</th>\n",
              "      <th>ROADCOND</th>\n",
              "      <th>LIGHTCOND</th>\n",
              "      <th>SPEEDING</th>\n",
              "    </tr>\n",
              "  </thead>\n",
              "  <tbody>\n",
              "    <tr>\n",
              "      <th>0</th>\n",
              "      <td>False</td>\n",
              "      <td>False</td>\n",
              "      <td>False</td>\n",
              "      <td>False</td>\n",
              "      <td>False</td>\n",
              "      <td>False</td>\n",
              "      <td>False</td>\n",
              "      <td>True</td>\n",
              "    </tr>\n",
              "    <tr>\n",
              "      <th>1</th>\n",
              "      <td>False</td>\n",
              "      <td>False</td>\n",
              "      <td>False</td>\n",
              "      <td>False</td>\n",
              "      <td>False</td>\n",
              "      <td>False</td>\n",
              "      <td>False</td>\n",
              "      <td>True</td>\n",
              "    </tr>\n",
              "    <tr>\n",
              "      <th>2</th>\n",
              "      <td>False</td>\n",
              "      <td>False</td>\n",
              "      <td>False</td>\n",
              "      <td>False</td>\n",
              "      <td>False</td>\n",
              "      <td>False</td>\n",
              "      <td>False</td>\n",
              "      <td>True</td>\n",
              "    </tr>\n",
              "    <tr>\n",
              "      <th>3</th>\n",
              "      <td>False</td>\n",
              "      <td>False</td>\n",
              "      <td>False</td>\n",
              "      <td>False</td>\n",
              "      <td>False</td>\n",
              "      <td>False</td>\n",
              "      <td>False</td>\n",
              "      <td>True</td>\n",
              "    </tr>\n",
              "    <tr>\n",
              "      <th>4</th>\n",
              "      <td>False</td>\n",
              "      <td>False</td>\n",
              "      <td>False</td>\n",
              "      <td>False</td>\n",
              "      <td>False</td>\n",
              "      <td>False</td>\n",
              "      <td>False</td>\n",
              "      <td>True</td>\n",
              "    </tr>\n",
              "  </tbody>\n",
              "</table>\n",
              "</div>"
            ],
            "text/plain": [
              "   SEVERITYCODE  COLLISIONTYPE  PERSONCOUNT  ...  ROADCOND  LIGHTCOND  SPEEDING\n",
              "0         False          False        False  ...     False      False      True\n",
              "1         False          False        False  ...     False      False      True\n",
              "2         False          False        False  ...     False      False      True\n",
              "3         False          False        False  ...     False      False      True\n",
              "4         False          False        False  ...     False      False      True\n",
              "\n",
              "[5 rows x 8 columns]"
            ]
          },
          "metadata": {
            "tags": []
          },
          "execution_count": 52
        }
      ]
    },
    {
      "cell_type": "code",
      "metadata": {
        "id": "yNrSaboz7oaK",
        "colab_type": "code",
        "colab": {
          "base_uri": "https://localhost:8080/",
          "height": 659
        },
        "outputId": "179f26db-b3df-47d8-deb0-eaf58d674197"
      },
      "source": [
        "for column in df1.columns.values.tolist():\n",
        "  print(column)\n",
        "  print(df1[column].value_counts())\n",
        "  print(\" \")\n"
      ],
      "execution_count": 53,
      "outputs": [
        {
          "output_type": "stream",
          "text": [
            "SEVERITYCODE\n",
            "False    13846\n",
            "Name: SEVERITYCODE, dtype: int64\n",
            " \n",
            "COLLISIONTYPE\n",
            "False    13709\n",
            "True       137\n",
            "Name: COLLISIONTYPE, dtype: int64\n",
            " \n",
            "PERSONCOUNT\n",
            "False    13846\n",
            "Name: PERSONCOUNT, dtype: int64\n",
            " \n",
            "VEHCOUNT\n",
            "False    13846\n",
            "Name: VEHCOUNT, dtype: int64\n",
            " \n",
            "WEATHER\n",
            "False    13703\n",
            "True       143\n",
            "Name: WEATHER, dtype: int64\n",
            " \n",
            "ROADCOND\n",
            "False    13704\n",
            "True       142\n",
            "Name: ROADCOND, dtype: int64\n",
            " \n",
            "LIGHTCOND\n",
            "False    13701\n",
            "True       145\n",
            "Name: LIGHTCOND, dtype: int64\n",
            " \n",
            "SPEEDING\n",
            "True     13086\n",
            "False      760\n",
            "Name: SPEEDING, dtype: int64\n",
            " \n"
          ],
          "name": "stdout"
        }
      ]
    },
    {
      "cell_type": "code",
      "metadata": {
        "id": "FbWdLRtX9hks",
        "colab_type": "code",
        "colab": {
          "base_uri": "https://localhost:8080/",
          "height": 208
        },
        "outputId": "fbf36337-c7cd-42cc-e9c4-3c4b93ac520c"
      },
      "source": [
        "df['COLLISIONTYPE'].value_counts()"
      ],
      "execution_count": 54,
      "outputs": [
        {
          "output_type": "execute_result",
          "data": {
            "text/plain": [
              "Parked Car    3495\n",
              "Rear Ended    2568\n",
              "Angles        2409\n",
              "Other         2035\n",
              "Sideswipe     1170\n",
              "Left Turn     1041\n",
              "Pedestrian     404\n",
              "Cycles         271\n",
              "Right Turn     171\n",
              "Head On        145\n",
              "Name: COLLISIONTYPE, dtype: int64"
            ]
          },
          "metadata": {
            "tags": []
          },
          "execution_count": 54
        }
      ]
    },
    {
      "cell_type": "code",
      "metadata": {
        "id": "ye_-a5Rc-8sH",
        "colab_type": "code",
        "colab": {}
      },
      "source": [
        "df.dropna(subset=['COLLISIONTYPE'], axis=0, inplace=True)\n",
        "df.reset_index(drop=True, inplace=True)"
      ],
      "execution_count": 55,
      "outputs": []
    },
    {
      "cell_type": "code",
      "metadata": {
        "id": "nMhrEUbC_YoL",
        "colab_type": "code",
        "colab": {
          "base_uri": "https://localhost:8080/",
          "height": 208
        },
        "outputId": "cb0d7711-d3a2-48f3-dab5-c3155d553d51"
      },
      "source": [
        "df['WEATHER'].value_counts()"
      ],
      "execution_count": 56,
      "outputs": [
        {
          "output_type": "execute_result",
          "data": {
            "text/plain": [
              "Clear                       8222\n",
              "Raining                     2436\n",
              "Overcast                    2078\n",
              "Unknown                      779\n",
              "Other                         76\n",
              "Snowing                       53\n",
              "Fog/Smog/Smoke                45\n",
              "Sleet/Hail/Freezing Rain       8\n",
              "Blowing Sand/Dirt              5\n",
              "Severe Crosswind               1\n",
              "Name: WEATHER, dtype: int64"
            ]
          },
          "metadata": {
            "tags": []
          },
          "execution_count": 56
        }
      ]
    },
    {
      "cell_type": "code",
      "metadata": {
        "id": "2qWzoP7A_jjb",
        "colab_type": "code",
        "colab": {}
      },
      "source": [
        "df[\"WEATHER\"].replace(np.nan, \"Clear\", inplace=True)"
      ],
      "execution_count": 57,
      "outputs": []
    },
    {
      "cell_type": "code",
      "metadata": {
        "id": "Vz4LufJiAQxn",
        "colab_type": "code",
        "colab": {
          "base_uri": "https://localhost:8080/",
          "height": 52
        },
        "outputId": "3e1b5acb-95a7-4027-b563-1d1f0ae717f6"
      },
      "source": [
        "#df['ROADCOND'].value_counts()\n",
        "#df['LIGHTCOND'].value_counts()\n",
        "df['SPEEDING'].value_counts()"
      ],
      "execution_count": 58,
      "outputs": [
        {
          "output_type": "execute_result",
          "data": {
            "text/plain": [
              "Y    760\n",
              "Name: SPEEDING, dtype: int64"
            ]
          },
          "metadata": {
            "tags": []
          },
          "execution_count": 58
        }
      ]
    },
    {
      "cell_type": "code",
      "metadata": {
        "id": "npMXeUfNA595",
        "colab_type": "code",
        "colab": {
          "base_uri": "https://localhost:8080/",
          "height": 355
        },
        "outputId": "9f90f3c6-b204-4f69-a83a-5eb10fa197ea"
      },
      "source": [
        "df[\"ROADCOND\"].replace(np.nan, \"Dry\", inplace=True)\n",
        "df[\"LIGHTCOND\"].replace(np.nan, \"Dry\", inplace=True)\n",
        "df.drop('SPEEDING',axis='columns', inplace=True)\n",
        "df.head(10)"
      ],
      "execution_count": 59,
      "outputs": [
        {
          "output_type": "execute_result",
          "data": {
            "text/html": [
              "<div>\n",
              "<style scoped>\n",
              "    .dataframe tbody tr th:only-of-type {\n",
              "        vertical-align: middle;\n",
              "    }\n",
              "\n",
              "    .dataframe tbody tr th {\n",
              "        vertical-align: top;\n",
              "    }\n",
              "\n",
              "    .dataframe thead th {\n",
              "        text-align: right;\n",
              "    }\n",
              "</style>\n",
              "<table border=\"1\" class=\"dataframe\">\n",
              "  <thead>\n",
              "    <tr style=\"text-align: right;\">\n",
              "      <th></th>\n",
              "      <th>SEVERITYCODE</th>\n",
              "      <th>COLLISIONTYPE</th>\n",
              "      <th>PERSONCOUNT</th>\n",
              "      <th>VEHCOUNT</th>\n",
              "      <th>WEATHER</th>\n",
              "      <th>ROADCOND</th>\n",
              "      <th>LIGHTCOND</th>\n",
              "    </tr>\n",
              "  </thead>\n",
              "  <tbody>\n",
              "    <tr>\n",
              "      <th>0</th>\n",
              "      <td>2</td>\n",
              "      <td>Angles</td>\n",
              "      <td>2</td>\n",
              "      <td>2</td>\n",
              "      <td>Overcast</td>\n",
              "      <td>Wet</td>\n",
              "      <td>Daylight</td>\n",
              "    </tr>\n",
              "    <tr>\n",
              "      <th>1</th>\n",
              "      <td>1</td>\n",
              "      <td>Sideswipe</td>\n",
              "      <td>2</td>\n",
              "      <td>2</td>\n",
              "      <td>Raining</td>\n",
              "      <td>Wet</td>\n",
              "      <td>Dark - Street Lights On</td>\n",
              "    </tr>\n",
              "    <tr>\n",
              "      <th>2</th>\n",
              "      <td>1</td>\n",
              "      <td>Parked Car</td>\n",
              "      <td>4</td>\n",
              "      <td>3</td>\n",
              "      <td>Overcast</td>\n",
              "      <td>Dry</td>\n",
              "      <td>Daylight</td>\n",
              "    </tr>\n",
              "    <tr>\n",
              "      <th>3</th>\n",
              "      <td>1</td>\n",
              "      <td>Other</td>\n",
              "      <td>3</td>\n",
              "      <td>3</td>\n",
              "      <td>Clear</td>\n",
              "      <td>Dry</td>\n",
              "      <td>Daylight</td>\n",
              "    </tr>\n",
              "    <tr>\n",
              "      <th>4</th>\n",
              "      <td>2</td>\n",
              "      <td>Angles</td>\n",
              "      <td>2</td>\n",
              "      <td>2</td>\n",
              "      <td>Raining</td>\n",
              "      <td>Wet</td>\n",
              "      <td>Daylight</td>\n",
              "    </tr>\n",
              "    <tr>\n",
              "      <th>5</th>\n",
              "      <td>1</td>\n",
              "      <td>Angles</td>\n",
              "      <td>2</td>\n",
              "      <td>2</td>\n",
              "      <td>Clear</td>\n",
              "      <td>Dry</td>\n",
              "      <td>Daylight</td>\n",
              "    </tr>\n",
              "    <tr>\n",
              "      <th>6</th>\n",
              "      <td>1</td>\n",
              "      <td>Angles</td>\n",
              "      <td>2</td>\n",
              "      <td>2</td>\n",
              "      <td>Raining</td>\n",
              "      <td>Wet</td>\n",
              "      <td>Daylight</td>\n",
              "    </tr>\n",
              "    <tr>\n",
              "      <th>7</th>\n",
              "      <td>2</td>\n",
              "      <td>Cycles</td>\n",
              "      <td>3</td>\n",
              "      <td>1</td>\n",
              "      <td>Clear</td>\n",
              "      <td>Dry</td>\n",
              "      <td>Daylight</td>\n",
              "    </tr>\n",
              "    <tr>\n",
              "      <th>8</th>\n",
              "      <td>1</td>\n",
              "      <td>Parked Car</td>\n",
              "      <td>2</td>\n",
              "      <td>2</td>\n",
              "      <td>Clear</td>\n",
              "      <td>Dry</td>\n",
              "      <td>Daylight</td>\n",
              "    </tr>\n",
              "    <tr>\n",
              "      <th>9</th>\n",
              "      <td>2</td>\n",
              "      <td>Angles</td>\n",
              "      <td>2</td>\n",
              "      <td>2</td>\n",
              "      <td>Clear</td>\n",
              "      <td>Dry</td>\n",
              "      <td>Daylight</td>\n",
              "    </tr>\n",
              "  </tbody>\n",
              "</table>\n",
              "</div>"
            ],
            "text/plain": [
              "   SEVERITYCODE COLLISIONTYPE  ...  ROADCOND                LIGHTCOND\n",
              "0             2        Angles  ...       Wet                 Daylight\n",
              "1             1     Sideswipe  ...       Wet  Dark - Street Lights On\n",
              "2             1    Parked Car  ...       Dry                 Daylight\n",
              "3             1         Other  ...       Dry                 Daylight\n",
              "4             2        Angles  ...       Wet                 Daylight\n",
              "5             1        Angles  ...       Dry                 Daylight\n",
              "6             1        Angles  ...       Wet                 Daylight\n",
              "7             2        Cycles  ...       Dry                 Daylight\n",
              "8             1    Parked Car  ...       Dry                 Daylight\n",
              "9             2        Angles  ...       Dry                 Daylight\n",
              "\n",
              "[10 rows x 7 columns]"
            ]
          },
          "metadata": {
            "tags": []
          },
          "execution_count": 59
        }
      ]
    },
    {
      "cell_type": "code",
      "metadata": {
        "id": "HEQOmddrCIw3",
        "colab_type": "code",
        "colab": {
          "base_uri": "https://localhost:8080/",
          "height": 69
        },
        "outputId": "b53368f4-9090-4da8-c5f1-cbdc5313664b"
      },
      "source": [
        "df['SEVERITYCODE'].value_counts()"
      ],
      "execution_count": 60,
      "outputs": [
        {
          "output_type": "execute_result",
          "data": {
            "text/plain": [
              "1    9483\n",
              "2    4226\n",
              "Name: SEVERITYCODE, dtype: int64"
            ]
          },
          "metadata": {
            "tags": []
          },
          "execution_count": 60
        }
      ]
    },
    {
      "cell_type": "code",
      "metadata": {
        "id": "EtTOw_phIthu",
        "colab_type": "code",
        "colab": {}
      },
      "source": [
        ""
      ],
      "execution_count": 60,
      "outputs": []
    },
    {
      "cell_type": "code",
      "metadata": {
        "id": "eNuibRhaItll",
        "colab_type": "code",
        "colab": {
          "base_uri": "https://localhost:8080/",
          "height": 399
        },
        "outputId": "fb5b08a3-8a40-4f7c-a4ec-936527c071a9"
      },
      "source": [
        "df.groupby(['COLLISIONTYPE'])['SEVERITYCODE'].value_counts(normalize=True)"
      ],
      "execution_count": 61,
      "outputs": [
        {
          "output_type": "execute_result",
          "data": {
            "text/plain": [
              "COLLISIONTYPE  SEVERITYCODE\n",
              "Angles         1               0.574927\n",
              "               2               0.425073\n",
              "Cycles         2               0.904059\n",
              "               1               0.095941\n",
              "Head On        1               0.510345\n",
              "               2               0.489655\n",
              "Left Turn      1               0.585975\n",
              "               2               0.414025\n",
              "Other          1               0.736609\n",
              "               2               0.263391\n",
              "Parked Car     1               0.946495\n",
              "               2               0.053505\n",
              "Pedestrian     2               0.898515\n",
              "               1               0.101485\n",
              "Rear Ended     1               0.536215\n",
              "               2               0.463785\n",
              "Right Turn     1               0.812865\n",
              "               2               0.187135\n",
              "Sideswipe      1               0.875214\n",
              "               2               0.124786\n",
              "Name: SEVERITYCODE, dtype: float64"
            ]
          },
          "metadata": {
            "tags": []
          },
          "execution_count": 61
        }
      ]
    },
    {
      "cell_type": "code",
      "metadata": {
        "id": "5VLGY_a_Iu5u",
        "colab_type": "code",
        "colab": {
          "base_uri": "https://localhost:8080/",
          "height": 274
        },
        "outputId": "326bd03d-c1fc-4678-dce0-cac52cb533d1"
      },
      "source": [
        "Feature = df[['SEVERITYCODE','PERSONCOUNT','VEHCOUNT','WEATHER','ROADCOND', 'LIGHTCOND']]\n",
        "Feature = pd.concat([Feature,pd.get_dummies(df['COLLISIONTYPE'])], axis=1)\n",
        "Feature.drop(['Angles','Head On','Left Turn','Rear Ended'], axis = 1,inplace=True)\n",
        "Feature.head()\n"
      ],
      "execution_count": 62,
      "outputs": [
        {
          "output_type": "execute_result",
          "data": {
            "text/html": [
              "<div>\n",
              "<style scoped>\n",
              "    .dataframe tbody tr th:only-of-type {\n",
              "        vertical-align: middle;\n",
              "    }\n",
              "\n",
              "    .dataframe tbody tr th {\n",
              "        vertical-align: top;\n",
              "    }\n",
              "\n",
              "    .dataframe thead th {\n",
              "        text-align: right;\n",
              "    }\n",
              "</style>\n",
              "<table border=\"1\" class=\"dataframe\">\n",
              "  <thead>\n",
              "    <tr style=\"text-align: right;\">\n",
              "      <th></th>\n",
              "      <th>SEVERITYCODE</th>\n",
              "      <th>PERSONCOUNT</th>\n",
              "      <th>VEHCOUNT</th>\n",
              "      <th>WEATHER</th>\n",
              "      <th>ROADCOND</th>\n",
              "      <th>LIGHTCOND</th>\n",
              "      <th>Cycles</th>\n",
              "      <th>Other</th>\n",
              "      <th>Parked Car</th>\n",
              "      <th>Pedestrian</th>\n",
              "      <th>Right Turn</th>\n",
              "      <th>Sideswipe</th>\n",
              "    </tr>\n",
              "  </thead>\n",
              "  <tbody>\n",
              "    <tr>\n",
              "      <th>0</th>\n",
              "      <td>2</td>\n",
              "      <td>2</td>\n",
              "      <td>2</td>\n",
              "      <td>Overcast</td>\n",
              "      <td>Wet</td>\n",
              "      <td>Daylight</td>\n",
              "      <td>0</td>\n",
              "      <td>0</td>\n",
              "      <td>0</td>\n",
              "      <td>0</td>\n",
              "      <td>0</td>\n",
              "      <td>0</td>\n",
              "    </tr>\n",
              "    <tr>\n",
              "      <th>1</th>\n",
              "      <td>1</td>\n",
              "      <td>2</td>\n",
              "      <td>2</td>\n",
              "      <td>Raining</td>\n",
              "      <td>Wet</td>\n",
              "      <td>Dark - Street Lights On</td>\n",
              "      <td>0</td>\n",
              "      <td>0</td>\n",
              "      <td>0</td>\n",
              "      <td>0</td>\n",
              "      <td>0</td>\n",
              "      <td>1</td>\n",
              "    </tr>\n",
              "    <tr>\n",
              "      <th>2</th>\n",
              "      <td>1</td>\n",
              "      <td>4</td>\n",
              "      <td>3</td>\n",
              "      <td>Overcast</td>\n",
              "      <td>Dry</td>\n",
              "      <td>Daylight</td>\n",
              "      <td>0</td>\n",
              "      <td>0</td>\n",
              "      <td>1</td>\n",
              "      <td>0</td>\n",
              "      <td>0</td>\n",
              "      <td>0</td>\n",
              "    </tr>\n",
              "    <tr>\n",
              "      <th>3</th>\n",
              "      <td>1</td>\n",
              "      <td>3</td>\n",
              "      <td>3</td>\n",
              "      <td>Clear</td>\n",
              "      <td>Dry</td>\n",
              "      <td>Daylight</td>\n",
              "      <td>0</td>\n",
              "      <td>1</td>\n",
              "      <td>0</td>\n",
              "      <td>0</td>\n",
              "      <td>0</td>\n",
              "      <td>0</td>\n",
              "    </tr>\n",
              "    <tr>\n",
              "      <th>4</th>\n",
              "      <td>2</td>\n",
              "      <td>2</td>\n",
              "      <td>2</td>\n",
              "      <td>Raining</td>\n",
              "      <td>Wet</td>\n",
              "      <td>Daylight</td>\n",
              "      <td>0</td>\n",
              "      <td>0</td>\n",
              "      <td>0</td>\n",
              "      <td>0</td>\n",
              "      <td>0</td>\n",
              "      <td>0</td>\n",
              "    </tr>\n",
              "  </tbody>\n",
              "</table>\n",
              "</div>"
            ],
            "text/plain": [
              "   SEVERITYCODE  PERSONCOUNT  VEHCOUNT  ... Pedestrian Right Turn Sideswipe\n",
              "0             2            2         2  ...          0          0         0\n",
              "1             1            2         2  ...          0          0         1\n",
              "2             1            4         3  ...          0          0         0\n",
              "3             1            3         3  ...          0          0         0\n",
              "4             2            2         2  ...          0          0         0\n",
              "\n",
              "[5 rows x 12 columns]"
            ]
          },
          "metadata": {
            "tags": []
          },
          "execution_count": 62
        }
      ]
    },
    {
      "cell_type": "code",
      "metadata": {
        "id": "mURJeua2L3nE",
        "colab_type": "code",
        "colab": {
          "base_uri": "https://localhost:8080/",
          "height": 87
        },
        "outputId": "a950eae3-759e-41c9-d701-1b00d1b868cf"
      },
      "source": [
        "Feature.columns"
      ],
      "execution_count": 63,
      "outputs": [
        {
          "output_type": "execute_result",
          "data": {
            "text/plain": [
              "Index(['SEVERITYCODE', 'PERSONCOUNT', 'VEHCOUNT', 'WEATHER', 'ROADCOND',\n",
              "       'LIGHTCOND', 'Cycles', 'Other', 'Parked Car', 'Pedestrian',\n",
              "       'Right Turn', 'Sideswipe'],\n",
              "      dtype='object')"
            ]
          },
          "metadata": {
            "tags": []
          },
          "execution_count": 63
        }
      ]
    },
    {
      "cell_type": "code",
      "metadata": {
        "id": "OhY7arBDMmxX",
        "colab_type": "code",
        "colab": {
          "base_uri": "https://localhost:8080/",
          "height": 381
        },
        "outputId": "1b1add1e-a4c5-4cbf-d4d5-bc319ac2bccb"
      },
      "source": [
        "df.groupby(['WEATHER'])['SEVERITYCODE'].value_counts(normalize=True)"
      ],
      "execution_count": 64,
      "outputs": [
        {
          "output_type": "execute_result",
          "data": {
            "text/plain": [
              "WEATHER                   SEVERITYCODE\n",
              "Blowing Sand/Dirt         1               0.800000\n",
              "                          2               0.200000\n",
              "Clear                     1               0.675134\n",
              "                          2               0.324866\n",
              "Fog/Smog/Smoke            1               0.600000\n",
              "                          2               0.400000\n",
              "Other                     1               0.921053\n",
              "                          2               0.078947\n",
              "Overcast                  1               0.688162\n",
              "                          2               0.311838\n",
              "Raining                   1               0.660920\n",
              "                          2               0.339080\n",
              "Severe Crosswind          1               1.000000\n",
              "Sleet/Hail/Freezing Rain  1               0.875000\n",
              "                          2               0.125000\n",
              "Snowing                   1               0.924528\n",
              "                          2               0.075472\n",
              "Unknown                   1               0.937099\n",
              "                          2               0.062901\n",
              "Name: SEVERITYCODE, dtype: float64"
            ]
          },
          "metadata": {
            "tags": []
          },
          "execution_count": 64
        }
      ]
    },
    {
      "cell_type": "code",
      "metadata": {
        "id": "adbHuBU4Mm4h",
        "colab_type": "code",
        "colab": {
          "base_uri": "https://localhost:8080/",
          "height": 347
        },
        "outputId": "be36f188-1c0b-4a1b-b6ca-f370a5f912b7"
      },
      "source": [
        "df.groupby(['ROADCOND'])['SEVERITYCODE'].value_counts(normalize=True)"
      ],
      "execution_count": 65,
      "outputs": [
        {
          "output_type": "execute_result",
          "data": {
            "text/plain": [
              "ROADCOND        SEVERITYCODE\n",
              "Dry             1               0.676895\n",
              "                2               0.323105\n",
              "Ice             1               0.844828\n",
              "                2               0.155172\n",
              "Oil             2               1.000000\n",
              "Other           1               0.800000\n",
              "                2               0.200000\n",
              "Sand/Mud/Dirt   1               0.833333\n",
              "                2               0.166667\n",
              "Snow/Slush      1               0.863636\n",
              "                2               0.136364\n",
              "Standing Water  2               0.571429\n",
              "                1               0.428571\n",
              "Unknown         1               0.948849\n",
              "                2               0.051151\n",
              "Wet             1               0.668224\n",
              "                2               0.331776\n",
              "Name: SEVERITYCODE, dtype: float64"
            ]
          },
          "metadata": {
            "tags": []
          },
          "execution_count": 65
        }
      ]
    },
    {
      "cell_type": "code",
      "metadata": {
        "id": "Hb1wgIapMm8z",
        "colab_type": "code",
        "colab": {
          "base_uri": "https://localhost:8080/",
          "height": 381
        },
        "outputId": "2059fe63-9afc-4d41-8c0f-8df04bbae8c5"
      },
      "source": [
        "df.groupby(['LIGHTCOND'])['SEVERITYCODE'].value_counts(normalize=True)"
      ],
      "execution_count": 66,
      "outputs": [
        {
          "output_type": "execute_result",
          "data": {
            "text/plain": [
              "LIGHTCOND                 SEVERITYCODE\n",
              "Dark - No Street Lights   1               0.838095\n",
              "                          2               0.161905\n",
              "Dark - Street Lights Off  1               0.733333\n",
              "                          2               0.266667\n",
              "Dark - Street Lights On   1               0.711149\n",
              "                          2               0.288851\n",
              "Dark - Unknown Lighting   1               1.000000\n",
              "Dawn                      1               0.668571\n",
              "                          2               0.331429\n",
              "Daylight                  1               0.662297\n",
              "                          2               0.337703\n",
              "Dry                       1               0.500000\n",
              "                          2               0.500000\n",
              "Dusk                      1               0.676471\n",
              "                          2               0.323529\n",
              "Other                     1               0.611111\n",
              "                          2               0.388889\n",
              "Unknown                   1               0.960352\n",
              "                          2               0.039648\n",
              "Name: SEVERITYCODE, dtype: float64"
            ]
          },
          "metadata": {
            "tags": []
          },
          "execution_count": 66
        }
      ]
    },
    {
      "cell_type": "code",
      "metadata": {
        "id": "lqNTBWsxMm2B",
        "colab_type": "code",
        "colab": {
          "base_uri": "https://localhost:8080/",
          "height": 274
        },
        "outputId": "e7bd6031-2504-4223-fb55-c8f2464aee2a"
      },
      "source": [
        "Feature = Feature[['SEVERITYCODE','PERSONCOUNT', 'VEHCOUNT', 'ROADCOND', 'LIGHTCOND', 'Cycles',\n",
        "       'Other', 'Parked Car', 'Pedestrian', 'Right Turn', 'Sideswipe']]\n",
        "Feature = pd.concat([Feature,pd.get_dummies(df['WEATHER'])], axis=1)\n",
        "Feature.head()"
      ],
      "execution_count": 67,
      "outputs": [
        {
          "output_type": "execute_result",
          "data": {
            "text/html": [
              "<div>\n",
              "<style scoped>\n",
              "    .dataframe tbody tr th:only-of-type {\n",
              "        vertical-align: middle;\n",
              "    }\n",
              "\n",
              "    .dataframe tbody tr th {\n",
              "        vertical-align: top;\n",
              "    }\n",
              "\n",
              "    .dataframe thead th {\n",
              "        text-align: right;\n",
              "    }\n",
              "</style>\n",
              "<table border=\"1\" class=\"dataframe\">\n",
              "  <thead>\n",
              "    <tr style=\"text-align: right;\">\n",
              "      <th></th>\n",
              "      <th>SEVERITYCODE</th>\n",
              "      <th>PERSONCOUNT</th>\n",
              "      <th>VEHCOUNT</th>\n",
              "      <th>ROADCOND</th>\n",
              "      <th>LIGHTCOND</th>\n",
              "      <th>Cycles</th>\n",
              "      <th>Other</th>\n",
              "      <th>Parked Car</th>\n",
              "      <th>Pedestrian</th>\n",
              "      <th>Right Turn</th>\n",
              "      <th>Sideswipe</th>\n",
              "      <th>Blowing Sand/Dirt</th>\n",
              "      <th>Clear</th>\n",
              "      <th>Fog/Smog/Smoke</th>\n",
              "      <th>Other</th>\n",
              "      <th>Overcast</th>\n",
              "      <th>Raining</th>\n",
              "      <th>Severe Crosswind</th>\n",
              "      <th>Sleet/Hail/Freezing Rain</th>\n",
              "      <th>Snowing</th>\n",
              "      <th>Unknown</th>\n",
              "    </tr>\n",
              "  </thead>\n",
              "  <tbody>\n",
              "    <tr>\n",
              "      <th>0</th>\n",
              "      <td>2</td>\n",
              "      <td>2</td>\n",
              "      <td>2</td>\n",
              "      <td>Wet</td>\n",
              "      <td>Daylight</td>\n",
              "      <td>0</td>\n",
              "      <td>0</td>\n",
              "      <td>0</td>\n",
              "      <td>0</td>\n",
              "      <td>0</td>\n",
              "      <td>0</td>\n",
              "      <td>0</td>\n",
              "      <td>0</td>\n",
              "      <td>0</td>\n",
              "      <td>0</td>\n",
              "      <td>1</td>\n",
              "      <td>0</td>\n",
              "      <td>0</td>\n",
              "      <td>0</td>\n",
              "      <td>0</td>\n",
              "      <td>0</td>\n",
              "    </tr>\n",
              "    <tr>\n",
              "      <th>1</th>\n",
              "      <td>1</td>\n",
              "      <td>2</td>\n",
              "      <td>2</td>\n",
              "      <td>Wet</td>\n",
              "      <td>Dark - Street Lights On</td>\n",
              "      <td>0</td>\n",
              "      <td>0</td>\n",
              "      <td>0</td>\n",
              "      <td>0</td>\n",
              "      <td>0</td>\n",
              "      <td>1</td>\n",
              "      <td>0</td>\n",
              "      <td>0</td>\n",
              "      <td>0</td>\n",
              "      <td>0</td>\n",
              "      <td>0</td>\n",
              "      <td>1</td>\n",
              "      <td>0</td>\n",
              "      <td>0</td>\n",
              "      <td>0</td>\n",
              "      <td>0</td>\n",
              "    </tr>\n",
              "    <tr>\n",
              "      <th>2</th>\n",
              "      <td>1</td>\n",
              "      <td>4</td>\n",
              "      <td>3</td>\n",
              "      <td>Dry</td>\n",
              "      <td>Daylight</td>\n",
              "      <td>0</td>\n",
              "      <td>0</td>\n",
              "      <td>1</td>\n",
              "      <td>0</td>\n",
              "      <td>0</td>\n",
              "      <td>0</td>\n",
              "      <td>0</td>\n",
              "      <td>0</td>\n",
              "      <td>0</td>\n",
              "      <td>0</td>\n",
              "      <td>1</td>\n",
              "      <td>0</td>\n",
              "      <td>0</td>\n",
              "      <td>0</td>\n",
              "      <td>0</td>\n",
              "      <td>0</td>\n",
              "    </tr>\n",
              "    <tr>\n",
              "      <th>3</th>\n",
              "      <td>1</td>\n",
              "      <td>3</td>\n",
              "      <td>3</td>\n",
              "      <td>Dry</td>\n",
              "      <td>Daylight</td>\n",
              "      <td>0</td>\n",
              "      <td>1</td>\n",
              "      <td>0</td>\n",
              "      <td>0</td>\n",
              "      <td>0</td>\n",
              "      <td>0</td>\n",
              "      <td>0</td>\n",
              "      <td>1</td>\n",
              "      <td>0</td>\n",
              "      <td>0</td>\n",
              "      <td>0</td>\n",
              "      <td>0</td>\n",
              "      <td>0</td>\n",
              "      <td>0</td>\n",
              "      <td>0</td>\n",
              "      <td>0</td>\n",
              "    </tr>\n",
              "    <tr>\n",
              "      <th>4</th>\n",
              "      <td>2</td>\n",
              "      <td>2</td>\n",
              "      <td>2</td>\n",
              "      <td>Wet</td>\n",
              "      <td>Daylight</td>\n",
              "      <td>0</td>\n",
              "      <td>0</td>\n",
              "      <td>0</td>\n",
              "      <td>0</td>\n",
              "      <td>0</td>\n",
              "      <td>0</td>\n",
              "      <td>0</td>\n",
              "      <td>0</td>\n",
              "      <td>0</td>\n",
              "      <td>0</td>\n",
              "      <td>0</td>\n",
              "      <td>1</td>\n",
              "      <td>0</td>\n",
              "      <td>0</td>\n",
              "      <td>0</td>\n",
              "      <td>0</td>\n",
              "    </tr>\n",
              "  </tbody>\n",
              "</table>\n",
              "</div>"
            ],
            "text/plain": [
              "   SEVERITYCODE  PERSONCOUNT  ...  Snowing Unknown\n",
              "0             2            2  ...        0       0\n",
              "1             1            2  ...        0       0\n",
              "2             1            4  ...        0       0\n",
              "3             1            3  ...        0       0\n",
              "4             2            2  ...        0       0\n",
              "\n",
              "[5 rows x 21 columns]"
            ]
          },
          "metadata": {
            "tags": []
          },
          "execution_count": 67
        }
      ]
    },
    {
      "cell_type": "code",
      "metadata": {
        "id": "a89hSPhHMm0W",
        "colab_type": "code",
        "colab": {
          "base_uri": "https://localhost:8080/",
          "height": 121
        },
        "outputId": "21d5747d-c23a-41ce-c3a6-03e7cde25e9f"
      },
      "source": [
        "Feature.columns"
      ],
      "execution_count": 68,
      "outputs": [
        {
          "output_type": "execute_result",
          "data": {
            "text/plain": [
              "Index(['SEVERITYCODE', 'PERSONCOUNT', 'VEHCOUNT', 'ROADCOND', 'LIGHTCOND',\n",
              "       'Cycles', 'Other', 'Parked Car', 'Pedestrian', 'Right Turn',\n",
              "       'Sideswipe', 'Blowing Sand/Dirt', 'Clear', 'Fog/Smog/Smoke', 'Other',\n",
              "       'Overcast', 'Raining', 'Severe Crosswind', 'Sleet/Hail/Freezing Rain',\n",
              "       'Snowing', 'Unknown'],\n",
              "      dtype='object')"
            ]
          },
          "metadata": {
            "tags": []
          },
          "execution_count": 68
        }
      ]
    },
    {
      "cell_type": "code",
      "metadata": {
        "id": "sdeH8CxTPLry",
        "colab_type": "code",
        "colab": {
          "base_uri": "https://localhost:8080/",
          "height": 274
        },
        "outputId": "54f02139-1bce-46c9-f1be-3d9c06b6ffc8"
      },
      "source": [
        "Feature = Feature[['SEVERITYCODE','PERSONCOUNT', 'VEHCOUNT', 'LIGHTCOND', 'Cycles', 'Other',\n",
        "       'Parked Car', 'Pedestrian', 'Right Turn', 'Sideswipe',\n",
        "       'Blowing Sand/Dirt', 'Clear', 'Fog/Smog/Smoke', 'Other', 'Overcast',\n",
        "       'Raining', 'Severe Crosswind', 'Sleet/Hail/Freezing Rain', 'Snowing',\n",
        "       'Unknown']]\n",
        "Feature = pd.concat([Feature,pd.get_dummies(df['ROADCOND'])], axis=1)\n",
        "Feature.drop(['Standing Water'], axis = 1,inplace=True)\n",
        "Feature.head()"
      ],
      "execution_count": 69,
      "outputs": [
        {
          "output_type": "execute_result",
          "data": {
            "text/html": [
              "<div>\n",
              "<style scoped>\n",
              "    .dataframe tbody tr th:only-of-type {\n",
              "        vertical-align: middle;\n",
              "    }\n",
              "\n",
              "    .dataframe tbody tr th {\n",
              "        vertical-align: top;\n",
              "    }\n",
              "\n",
              "    .dataframe thead th {\n",
              "        text-align: right;\n",
              "    }\n",
              "</style>\n",
              "<table border=\"1\" class=\"dataframe\">\n",
              "  <thead>\n",
              "    <tr style=\"text-align: right;\">\n",
              "      <th></th>\n",
              "      <th>SEVERITYCODE</th>\n",
              "      <th>PERSONCOUNT</th>\n",
              "      <th>VEHCOUNT</th>\n",
              "      <th>LIGHTCOND</th>\n",
              "      <th>Cycles</th>\n",
              "      <th>Other</th>\n",
              "      <th>Other</th>\n",
              "      <th>Parked Car</th>\n",
              "      <th>Pedestrian</th>\n",
              "      <th>Right Turn</th>\n",
              "      <th>Sideswipe</th>\n",
              "      <th>Blowing Sand/Dirt</th>\n",
              "      <th>Clear</th>\n",
              "      <th>Fog/Smog/Smoke</th>\n",
              "      <th>Other</th>\n",
              "      <th>Other</th>\n",
              "      <th>Overcast</th>\n",
              "      <th>Raining</th>\n",
              "      <th>Severe Crosswind</th>\n",
              "      <th>Sleet/Hail/Freezing Rain</th>\n",
              "      <th>Snowing</th>\n",
              "      <th>Unknown</th>\n",
              "      <th>Dry</th>\n",
              "      <th>Ice</th>\n",
              "      <th>Oil</th>\n",
              "      <th>Other</th>\n",
              "      <th>Sand/Mud/Dirt</th>\n",
              "      <th>Snow/Slush</th>\n",
              "      <th>Unknown</th>\n",
              "      <th>Wet</th>\n",
              "    </tr>\n",
              "  </thead>\n",
              "  <tbody>\n",
              "    <tr>\n",
              "      <th>0</th>\n",
              "      <td>2</td>\n",
              "      <td>2</td>\n",
              "      <td>2</td>\n",
              "      <td>Daylight</td>\n",
              "      <td>0</td>\n",
              "      <td>0</td>\n",
              "      <td>0</td>\n",
              "      <td>0</td>\n",
              "      <td>0</td>\n",
              "      <td>0</td>\n",
              "      <td>0</td>\n",
              "      <td>0</td>\n",
              "      <td>0</td>\n",
              "      <td>0</td>\n",
              "      <td>0</td>\n",
              "      <td>0</td>\n",
              "      <td>1</td>\n",
              "      <td>0</td>\n",
              "      <td>0</td>\n",
              "      <td>0</td>\n",
              "      <td>0</td>\n",
              "      <td>0</td>\n",
              "      <td>0</td>\n",
              "      <td>0</td>\n",
              "      <td>0</td>\n",
              "      <td>0</td>\n",
              "      <td>0</td>\n",
              "      <td>0</td>\n",
              "      <td>0</td>\n",
              "      <td>1</td>\n",
              "    </tr>\n",
              "    <tr>\n",
              "      <th>1</th>\n",
              "      <td>1</td>\n",
              "      <td>2</td>\n",
              "      <td>2</td>\n",
              "      <td>Dark - Street Lights On</td>\n",
              "      <td>0</td>\n",
              "      <td>0</td>\n",
              "      <td>0</td>\n",
              "      <td>0</td>\n",
              "      <td>0</td>\n",
              "      <td>0</td>\n",
              "      <td>1</td>\n",
              "      <td>0</td>\n",
              "      <td>0</td>\n",
              "      <td>0</td>\n",
              "      <td>0</td>\n",
              "      <td>0</td>\n",
              "      <td>0</td>\n",
              "      <td>1</td>\n",
              "      <td>0</td>\n",
              "      <td>0</td>\n",
              "      <td>0</td>\n",
              "      <td>0</td>\n",
              "      <td>0</td>\n",
              "      <td>0</td>\n",
              "      <td>0</td>\n",
              "      <td>0</td>\n",
              "      <td>0</td>\n",
              "      <td>0</td>\n",
              "      <td>0</td>\n",
              "      <td>1</td>\n",
              "    </tr>\n",
              "    <tr>\n",
              "      <th>2</th>\n",
              "      <td>1</td>\n",
              "      <td>4</td>\n",
              "      <td>3</td>\n",
              "      <td>Daylight</td>\n",
              "      <td>0</td>\n",
              "      <td>0</td>\n",
              "      <td>0</td>\n",
              "      <td>1</td>\n",
              "      <td>0</td>\n",
              "      <td>0</td>\n",
              "      <td>0</td>\n",
              "      <td>0</td>\n",
              "      <td>0</td>\n",
              "      <td>0</td>\n",
              "      <td>0</td>\n",
              "      <td>0</td>\n",
              "      <td>1</td>\n",
              "      <td>0</td>\n",
              "      <td>0</td>\n",
              "      <td>0</td>\n",
              "      <td>0</td>\n",
              "      <td>0</td>\n",
              "      <td>1</td>\n",
              "      <td>0</td>\n",
              "      <td>0</td>\n",
              "      <td>0</td>\n",
              "      <td>0</td>\n",
              "      <td>0</td>\n",
              "      <td>0</td>\n",
              "      <td>0</td>\n",
              "    </tr>\n",
              "    <tr>\n",
              "      <th>3</th>\n",
              "      <td>1</td>\n",
              "      <td>3</td>\n",
              "      <td>3</td>\n",
              "      <td>Daylight</td>\n",
              "      <td>0</td>\n",
              "      <td>1</td>\n",
              "      <td>0</td>\n",
              "      <td>0</td>\n",
              "      <td>0</td>\n",
              "      <td>0</td>\n",
              "      <td>0</td>\n",
              "      <td>0</td>\n",
              "      <td>1</td>\n",
              "      <td>0</td>\n",
              "      <td>1</td>\n",
              "      <td>0</td>\n",
              "      <td>0</td>\n",
              "      <td>0</td>\n",
              "      <td>0</td>\n",
              "      <td>0</td>\n",
              "      <td>0</td>\n",
              "      <td>0</td>\n",
              "      <td>1</td>\n",
              "      <td>0</td>\n",
              "      <td>0</td>\n",
              "      <td>0</td>\n",
              "      <td>0</td>\n",
              "      <td>0</td>\n",
              "      <td>0</td>\n",
              "      <td>0</td>\n",
              "    </tr>\n",
              "    <tr>\n",
              "      <th>4</th>\n",
              "      <td>2</td>\n",
              "      <td>2</td>\n",
              "      <td>2</td>\n",
              "      <td>Daylight</td>\n",
              "      <td>0</td>\n",
              "      <td>0</td>\n",
              "      <td>0</td>\n",
              "      <td>0</td>\n",
              "      <td>0</td>\n",
              "      <td>0</td>\n",
              "      <td>0</td>\n",
              "      <td>0</td>\n",
              "      <td>0</td>\n",
              "      <td>0</td>\n",
              "      <td>0</td>\n",
              "      <td>0</td>\n",
              "      <td>0</td>\n",
              "      <td>1</td>\n",
              "      <td>0</td>\n",
              "      <td>0</td>\n",
              "      <td>0</td>\n",
              "      <td>0</td>\n",
              "      <td>0</td>\n",
              "      <td>0</td>\n",
              "      <td>0</td>\n",
              "      <td>0</td>\n",
              "      <td>0</td>\n",
              "      <td>0</td>\n",
              "      <td>0</td>\n",
              "      <td>1</td>\n",
              "    </tr>\n",
              "  </tbody>\n",
              "</table>\n",
              "</div>"
            ],
            "text/plain": [
              "   SEVERITYCODE  PERSONCOUNT  VEHCOUNT  ... Snow/Slush  Unknown  Wet\n",
              "0             2            2         2  ...          0        0    1\n",
              "1             1            2         2  ...          0        0    1\n",
              "2             1            4         3  ...          0        0    0\n",
              "3             1            3         3  ...          0        0    0\n",
              "4             2            2         2  ...          0        0    1\n",
              "\n",
              "[5 rows x 30 columns]"
            ]
          },
          "metadata": {
            "tags": []
          },
          "execution_count": 69
        }
      ]
    },
    {
      "cell_type": "code",
      "metadata": {
        "id": "pGPlmp6OPLxo",
        "colab_type": "code",
        "colab": {
          "base_uri": "https://localhost:8080/",
          "height": 139
        },
        "outputId": "b7e13134-4419-4602-a47d-6a0cc768ea99"
      },
      "source": [
        "Feature.columns"
      ],
      "execution_count": 70,
      "outputs": [
        {
          "output_type": "execute_result",
          "data": {
            "text/plain": [
              "Index(['SEVERITYCODE', 'PERSONCOUNT', 'VEHCOUNT', 'LIGHTCOND', 'Cycles',\n",
              "       'Other', 'Other', 'Parked Car', 'Pedestrian', 'Right Turn', 'Sideswipe',\n",
              "       'Blowing Sand/Dirt', 'Clear', 'Fog/Smog/Smoke', 'Other', 'Other',\n",
              "       'Overcast', 'Raining', 'Severe Crosswind', 'Sleet/Hail/Freezing Rain',\n",
              "       'Snowing', 'Unknown', 'Dry', 'Ice', 'Oil', 'Other', 'Sand/Mud/Dirt',\n",
              "       'Snow/Slush', 'Unknown', 'Wet'],\n",
              "      dtype='object')"
            ]
          },
          "metadata": {
            "tags": []
          },
          "execution_count": 70
        }
      ]
    },
    {
      "cell_type": "code",
      "metadata": {
        "id": "LKxEMVHsPLvE",
        "colab_type": "code",
        "colab": {
          "base_uri": "https://localhost:8080/",
          "height": 274
        },
        "outputId": "ce60cfe5-524d-4bf1-db17-eb3b003a4ca5"
      },
      "source": [
        "Feature = Feature[['SEVERITYCODE','PERSONCOUNT', 'VEHCOUNT', 'Cycles', 'Other', 'Other',\n",
        "       'Parked Car', 'Pedestrian', 'Right Turn', 'Sideswipe',\n",
        "       'Blowing Sand/Dirt', 'Clear', 'Fog/Smog/Smoke', 'Other', 'Other',\n",
        "       'Overcast', 'Raining', 'Severe Crosswind', 'Sleet/Hail/Freezing Rain',\n",
        "       'Snowing', 'Unknown', 'Dry', 'Ice', 'Oil', 'Other', 'Sand/Mud/Dirt',\n",
        "       'Snow/Slush', 'Unknown', 'Wet']]\n",
        "Feature = pd.concat([Feature,pd.get_dummies(df['LIGHTCOND'])], axis=1)\n",
        "Feature.drop(['Dry'], axis = 1,inplace=True)\n",
        "Feature.head()"
      ],
      "execution_count": 71,
      "outputs": [
        {
          "output_type": "execute_result",
          "data": {
            "text/html": [
              "<div>\n",
              "<style scoped>\n",
              "    .dataframe tbody tr th:only-of-type {\n",
              "        vertical-align: middle;\n",
              "    }\n",
              "\n",
              "    .dataframe tbody tr th {\n",
              "        vertical-align: top;\n",
              "    }\n",
              "\n",
              "    .dataframe thead th {\n",
              "        text-align: right;\n",
              "    }\n",
              "</style>\n",
              "<table border=\"1\" class=\"dataframe\">\n",
              "  <thead>\n",
              "    <tr style=\"text-align: right;\">\n",
              "      <th></th>\n",
              "      <th>SEVERITYCODE</th>\n",
              "      <th>PERSONCOUNT</th>\n",
              "      <th>VEHCOUNT</th>\n",
              "      <th>Cycles</th>\n",
              "      <th>Other</th>\n",
              "      <th>Other</th>\n",
              "      <th>Other</th>\n",
              "      <th>Other</th>\n",
              "      <th>Other</th>\n",
              "      <th>Other</th>\n",
              "      <th>Other</th>\n",
              "      <th>Other</th>\n",
              "      <th>Other</th>\n",
              "      <th>Other</th>\n",
              "      <th>Parked Car</th>\n",
              "      <th>Pedestrian</th>\n",
              "      <th>Right Turn</th>\n",
              "      <th>Sideswipe</th>\n",
              "      <th>Blowing Sand/Dirt</th>\n",
              "      <th>Clear</th>\n",
              "      <th>Fog/Smog/Smoke</th>\n",
              "      <th>Other</th>\n",
              "      <th>Other</th>\n",
              "      <th>Other</th>\n",
              "      <th>Other</th>\n",
              "      <th>Other</th>\n",
              "      <th>Other</th>\n",
              "      <th>Other</th>\n",
              "      <th>Other</th>\n",
              "      <th>Other</th>\n",
              "      <th>Other</th>\n",
              "      <th>Overcast</th>\n",
              "      <th>Raining</th>\n",
              "      <th>Severe Crosswind</th>\n",
              "      <th>Sleet/Hail/Freezing Rain</th>\n",
              "      <th>Snowing</th>\n",
              "      <th>Unknown</th>\n",
              "      <th>Unknown</th>\n",
              "      <th>Ice</th>\n",
              "      <th>Oil</th>\n",
              "      <th>Other</th>\n",
              "      <th>Other</th>\n",
              "      <th>Other</th>\n",
              "      <th>Other</th>\n",
              "      <th>Other</th>\n",
              "      <th>Sand/Mud/Dirt</th>\n",
              "      <th>Snow/Slush</th>\n",
              "      <th>Unknown</th>\n",
              "      <th>Unknown</th>\n",
              "      <th>Wet</th>\n",
              "      <th>Dark - No Street Lights</th>\n",
              "      <th>Dark - Street Lights Off</th>\n",
              "      <th>Dark - Street Lights On</th>\n",
              "      <th>Dark - Unknown Lighting</th>\n",
              "      <th>Dawn</th>\n",
              "      <th>Daylight</th>\n",
              "      <th>Dusk</th>\n",
              "      <th>Other</th>\n",
              "      <th>Unknown</th>\n",
              "    </tr>\n",
              "  </thead>\n",
              "  <tbody>\n",
              "    <tr>\n",
              "      <th>0</th>\n",
              "      <td>2</td>\n",
              "      <td>2</td>\n",
              "      <td>2</td>\n",
              "      <td>0</td>\n",
              "      <td>0</td>\n",
              "      <td>0</td>\n",
              "      <td>0</td>\n",
              "      <td>0</td>\n",
              "      <td>0</td>\n",
              "      <td>0</td>\n",
              "      <td>0</td>\n",
              "      <td>0</td>\n",
              "      <td>0</td>\n",
              "      <td>0</td>\n",
              "      <td>0</td>\n",
              "      <td>0</td>\n",
              "      <td>0</td>\n",
              "      <td>0</td>\n",
              "      <td>0</td>\n",
              "      <td>0</td>\n",
              "      <td>0</td>\n",
              "      <td>0</td>\n",
              "      <td>0</td>\n",
              "      <td>0</td>\n",
              "      <td>0</td>\n",
              "      <td>0</td>\n",
              "      <td>0</td>\n",
              "      <td>0</td>\n",
              "      <td>0</td>\n",
              "      <td>0</td>\n",
              "      <td>0</td>\n",
              "      <td>1</td>\n",
              "      <td>0</td>\n",
              "      <td>0</td>\n",
              "      <td>0</td>\n",
              "      <td>0</td>\n",
              "      <td>0</td>\n",
              "      <td>0</td>\n",
              "      <td>0</td>\n",
              "      <td>0</td>\n",
              "      <td>0</td>\n",
              "      <td>0</td>\n",
              "      <td>0</td>\n",
              "      <td>0</td>\n",
              "      <td>0</td>\n",
              "      <td>0</td>\n",
              "      <td>0</td>\n",
              "      <td>0</td>\n",
              "      <td>0</td>\n",
              "      <td>1</td>\n",
              "      <td>0</td>\n",
              "      <td>0</td>\n",
              "      <td>0</td>\n",
              "      <td>0</td>\n",
              "      <td>0</td>\n",
              "      <td>1</td>\n",
              "      <td>0</td>\n",
              "      <td>0</td>\n",
              "      <td>0</td>\n",
              "    </tr>\n",
              "    <tr>\n",
              "      <th>1</th>\n",
              "      <td>1</td>\n",
              "      <td>2</td>\n",
              "      <td>2</td>\n",
              "      <td>0</td>\n",
              "      <td>0</td>\n",
              "      <td>0</td>\n",
              "      <td>0</td>\n",
              "      <td>0</td>\n",
              "      <td>0</td>\n",
              "      <td>0</td>\n",
              "      <td>0</td>\n",
              "      <td>0</td>\n",
              "      <td>0</td>\n",
              "      <td>0</td>\n",
              "      <td>0</td>\n",
              "      <td>0</td>\n",
              "      <td>0</td>\n",
              "      <td>1</td>\n",
              "      <td>0</td>\n",
              "      <td>0</td>\n",
              "      <td>0</td>\n",
              "      <td>0</td>\n",
              "      <td>0</td>\n",
              "      <td>0</td>\n",
              "      <td>0</td>\n",
              "      <td>0</td>\n",
              "      <td>0</td>\n",
              "      <td>0</td>\n",
              "      <td>0</td>\n",
              "      <td>0</td>\n",
              "      <td>0</td>\n",
              "      <td>0</td>\n",
              "      <td>1</td>\n",
              "      <td>0</td>\n",
              "      <td>0</td>\n",
              "      <td>0</td>\n",
              "      <td>0</td>\n",
              "      <td>0</td>\n",
              "      <td>0</td>\n",
              "      <td>0</td>\n",
              "      <td>0</td>\n",
              "      <td>0</td>\n",
              "      <td>0</td>\n",
              "      <td>0</td>\n",
              "      <td>0</td>\n",
              "      <td>0</td>\n",
              "      <td>0</td>\n",
              "      <td>0</td>\n",
              "      <td>0</td>\n",
              "      <td>1</td>\n",
              "      <td>0</td>\n",
              "      <td>0</td>\n",
              "      <td>1</td>\n",
              "      <td>0</td>\n",
              "      <td>0</td>\n",
              "      <td>0</td>\n",
              "      <td>0</td>\n",
              "      <td>0</td>\n",
              "      <td>0</td>\n",
              "    </tr>\n",
              "    <tr>\n",
              "      <th>2</th>\n",
              "      <td>1</td>\n",
              "      <td>4</td>\n",
              "      <td>3</td>\n",
              "      <td>0</td>\n",
              "      <td>0</td>\n",
              "      <td>0</td>\n",
              "      <td>0</td>\n",
              "      <td>0</td>\n",
              "      <td>0</td>\n",
              "      <td>0</td>\n",
              "      <td>0</td>\n",
              "      <td>0</td>\n",
              "      <td>0</td>\n",
              "      <td>0</td>\n",
              "      <td>1</td>\n",
              "      <td>0</td>\n",
              "      <td>0</td>\n",
              "      <td>0</td>\n",
              "      <td>0</td>\n",
              "      <td>0</td>\n",
              "      <td>0</td>\n",
              "      <td>0</td>\n",
              "      <td>0</td>\n",
              "      <td>0</td>\n",
              "      <td>0</td>\n",
              "      <td>0</td>\n",
              "      <td>0</td>\n",
              "      <td>0</td>\n",
              "      <td>0</td>\n",
              "      <td>0</td>\n",
              "      <td>0</td>\n",
              "      <td>1</td>\n",
              "      <td>0</td>\n",
              "      <td>0</td>\n",
              "      <td>0</td>\n",
              "      <td>0</td>\n",
              "      <td>0</td>\n",
              "      <td>0</td>\n",
              "      <td>0</td>\n",
              "      <td>0</td>\n",
              "      <td>0</td>\n",
              "      <td>0</td>\n",
              "      <td>0</td>\n",
              "      <td>0</td>\n",
              "      <td>0</td>\n",
              "      <td>0</td>\n",
              "      <td>0</td>\n",
              "      <td>0</td>\n",
              "      <td>0</td>\n",
              "      <td>0</td>\n",
              "      <td>0</td>\n",
              "      <td>0</td>\n",
              "      <td>0</td>\n",
              "      <td>0</td>\n",
              "      <td>0</td>\n",
              "      <td>1</td>\n",
              "      <td>0</td>\n",
              "      <td>0</td>\n",
              "      <td>0</td>\n",
              "    </tr>\n",
              "    <tr>\n",
              "      <th>3</th>\n",
              "      <td>1</td>\n",
              "      <td>3</td>\n",
              "      <td>3</td>\n",
              "      <td>0</td>\n",
              "      <td>1</td>\n",
              "      <td>0</td>\n",
              "      <td>1</td>\n",
              "      <td>0</td>\n",
              "      <td>0</td>\n",
              "      <td>1</td>\n",
              "      <td>0</td>\n",
              "      <td>1</td>\n",
              "      <td>0</td>\n",
              "      <td>0</td>\n",
              "      <td>0</td>\n",
              "      <td>0</td>\n",
              "      <td>0</td>\n",
              "      <td>0</td>\n",
              "      <td>0</td>\n",
              "      <td>1</td>\n",
              "      <td>0</td>\n",
              "      <td>1</td>\n",
              "      <td>0</td>\n",
              "      <td>1</td>\n",
              "      <td>0</td>\n",
              "      <td>0</td>\n",
              "      <td>1</td>\n",
              "      <td>0</td>\n",
              "      <td>1</td>\n",
              "      <td>0</td>\n",
              "      <td>0</td>\n",
              "      <td>0</td>\n",
              "      <td>0</td>\n",
              "      <td>0</td>\n",
              "      <td>0</td>\n",
              "      <td>0</td>\n",
              "      <td>0</td>\n",
              "      <td>0</td>\n",
              "      <td>0</td>\n",
              "      <td>0</td>\n",
              "      <td>1</td>\n",
              "      <td>0</td>\n",
              "      <td>1</td>\n",
              "      <td>0</td>\n",
              "      <td>0</td>\n",
              "      <td>0</td>\n",
              "      <td>0</td>\n",
              "      <td>0</td>\n",
              "      <td>0</td>\n",
              "      <td>0</td>\n",
              "      <td>0</td>\n",
              "      <td>0</td>\n",
              "      <td>0</td>\n",
              "      <td>0</td>\n",
              "      <td>0</td>\n",
              "      <td>1</td>\n",
              "      <td>0</td>\n",
              "      <td>0</td>\n",
              "      <td>0</td>\n",
              "    </tr>\n",
              "    <tr>\n",
              "      <th>4</th>\n",
              "      <td>2</td>\n",
              "      <td>2</td>\n",
              "      <td>2</td>\n",
              "      <td>0</td>\n",
              "      <td>0</td>\n",
              "      <td>0</td>\n",
              "      <td>0</td>\n",
              "      <td>0</td>\n",
              "      <td>0</td>\n",
              "      <td>0</td>\n",
              "      <td>0</td>\n",
              "      <td>0</td>\n",
              "      <td>0</td>\n",
              "      <td>0</td>\n",
              "      <td>0</td>\n",
              "      <td>0</td>\n",
              "      <td>0</td>\n",
              "      <td>0</td>\n",
              "      <td>0</td>\n",
              "      <td>0</td>\n",
              "      <td>0</td>\n",
              "      <td>0</td>\n",
              "      <td>0</td>\n",
              "      <td>0</td>\n",
              "      <td>0</td>\n",
              "      <td>0</td>\n",
              "      <td>0</td>\n",
              "      <td>0</td>\n",
              "      <td>0</td>\n",
              "      <td>0</td>\n",
              "      <td>0</td>\n",
              "      <td>0</td>\n",
              "      <td>1</td>\n",
              "      <td>0</td>\n",
              "      <td>0</td>\n",
              "      <td>0</td>\n",
              "      <td>0</td>\n",
              "      <td>0</td>\n",
              "      <td>0</td>\n",
              "      <td>0</td>\n",
              "      <td>0</td>\n",
              "      <td>0</td>\n",
              "      <td>0</td>\n",
              "      <td>0</td>\n",
              "      <td>0</td>\n",
              "      <td>0</td>\n",
              "      <td>0</td>\n",
              "      <td>0</td>\n",
              "      <td>0</td>\n",
              "      <td>1</td>\n",
              "      <td>0</td>\n",
              "      <td>0</td>\n",
              "      <td>0</td>\n",
              "      <td>0</td>\n",
              "      <td>0</td>\n",
              "      <td>1</td>\n",
              "      <td>0</td>\n",
              "      <td>0</td>\n",
              "      <td>0</td>\n",
              "    </tr>\n",
              "  </tbody>\n",
              "</table>\n",
              "</div>"
            ],
            "text/plain": [
              "   SEVERITYCODE  PERSONCOUNT  VEHCOUNT  Cycles  ...  Daylight  Dusk  Other  Unknown\n",
              "0             2            2         2       0  ...         1     0      0        0\n",
              "1             1            2         2       0  ...         0     0      0        0\n",
              "2             1            4         3       0  ...         1     0      0        0\n",
              "3             1            3         3       0  ...         1     0      0        0\n",
              "4             2            2         2       0  ...         1     0      0        0\n",
              "\n",
              "[5 rows x 59 columns]"
            ]
          },
          "metadata": {
            "tags": []
          },
          "execution_count": 71
        }
      ]
    },
    {
      "cell_type": "code",
      "metadata": {
        "id": "JTBLU5RaL2T1",
        "colab_type": "code",
        "colab": {
          "base_uri": "https://localhost:8080/",
          "height": 225
        },
        "outputId": "a55d091b-a2ff-4ca9-f497-bd4d8b18b86e"
      },
      "source": [
        "Feature.columns"
      ],
      "execution_count": 72,
      "outputs": [
        {
          "output_type": "execute_result",
          "data": {
            "text/plain": [
              "Index(['SEVERITYCODE', 'PERSONCOUNT', 'VEHCOUNT', 'Cycles', 'Other', 'Other',\n",
              "       'Other', 'Other', 'Other', 'Other', 'Other', 'Other', 'Other', 'Other',\n",
              "       'Parked Car', 'Pedestrian', 'Right Turn', 'Sideswipe',\n",
              "       'Blowing Sand/Dirt', 'Clear', 'Fog/Smog/Smoke', 'Other', 'Other',\n",
              "       'Other', 'Other', 'Other', 'Other', 'Other', 'Other', 'Other', 'Other',\n",
              "       'Overcast', 'Raining', 'Severe Crosswind', 'Sleet/Hail/Freezing Rain',\n",
              "       'Snowing', 'Unknown', 'Unknown', 'Ice', 'Oil', 'Other', 'Other',\n",
              "       'Other', 'Other', 'Other', 'Sand/Mud/Dirt', 'Snow/Slush', 'Unknown',\n",
              "       'Unknown', 'Wet', 'Dark - No Street Lights', 'Dark - Street Lights Off',\n",
              "       'Dark - Street Lights On', 'Dark - Unknown Lighting', 'Dawn',\n",
              "       'Daylight', 'Dusk', 'Other', 'Unknown'],\n",
              "      dtype='object')"
            ]
          },
          "metadata": {
            "tags": []
          },
          "execution_count": 72
        }
      ]
    },
    {
      "cell_type": "code",
      "metadata": {
        "id": "rt0p6S8dC4xk",
        "colab_type": "code",
        "colab": {}
      },
      "source": [
        "X=np.asarray(Feature[['PERSONCOUNT', 'VEHCOUNT', 'Cycles', 'Other', 'Other', 'Other', 'Other',\n",
        "       'Other', 'Other', 'Other', 'Other', 'Other', 'Other', 'Parked Car',\n",
        "       'Pedestrian', 'Right Turn', 'Sideswipe', 'Blowing Sand/Dirt', 'Clear',\n",
        "       'Fog/Smog/Smoke', 'Other', 'Other', 'Other', 'Other', 'Other', 'Other',\n",
        "       'Other', 'Other', 'Other', 'Other', 'Overcast', 'Raining',\n",
        "       'Severe Crosswind', 'Sleet/Hail/Freezing Rain', 'Snowing', 'Unknown',\n",
        "       'Unknown', 'Ice', 'Oil', 'Other', 'Other', 'Other', 'Other', 'Other',\n",
        "       'Sand/Mud/Dirt', 'Snow/Slush', 'Unknown', 'Unknown', 'Wet',\n",
        "       'Dark - No Street Lights', 'Dark - Street Lights Off',\n",
        "       'Dark - Street Lights On', 'Dark - Unknown Lighting', 'Dawn',\n",
        "       'Daylight', 'Dusk', 'Other', 'Unknown']])\n",
        "Y=np.asarray(Feature['SEVERITYCODE'])"
      ],
      "execution_count": 73,
      "outputs": []
    },
    {
      "cell_type": "code",
      "metadata": {
        "id": "XDe5rRVCF8hR",
        "colab_type": "code",
        "colab": {}
      },
      "source": [
        ""
      ],
      "execution_count": 73,
      "outputs": []
    },
    {
      "cell_type": "code",
      "metadata": {
        "id": "eZQSLpndEg9c",
        "colab_type": "code",
        "colab": {
          "base_uri": "https://localhost:8080/",
          "height": 191
        },
        "outputId": "de77ba8e-b574-4dee-f180-a7d959576543"
      },
      "source": [
        "from sklearn import preprocessing\n",
        "X= preprocessing.StandardScaler().fit(X).transform(X)\n",
        "X[0:5]"
      ],
      "execution_count": 74,
      "outputs": [
        {
          "output_type": "execute_result",
          "data": {
            "text/plain": [
              "array([[-0.3804971 ,  0.03623114, -0.14200948, ..., -0.24545363,\n",
              "        -0.24595435, -0.22863077],\n",
              "       [-0.3804971 ,  0.03623114, -0.14200948, ..., -0.24545363,\n",
              "        -0.24595435, -0.22863077],\n",
              "       [ 1.04489837,  1.91764287, -0.14200948, ..., -0.24545363,\n",
              "        -0.24595435, -0.22863077],\n",
              "       [ 0.33220064,  1.91764287, -0.14200948, ..., -0.24545363,\n",
              "        -0.24595435, -0.22863077],\n",
              "       [-0.3804971 ,  0.03623114, -0.14200948, ..., -0.24545363,\n",
              "        -0.24595435, -0.22863077]])"
            ]
          },
          "metadata": {
            "tags": []
          },
          "execution_count": 74
        }
      ]
    },
    {
      "cell_type": "code",
      "metadata": {
        "id": "lOznhQT-F6JP",
        "colab_type": "code",
        "colab": {}
      },
      "source": [
        "from sklearn.metrics import jaccard_similarity_score, f1_score, log_loss"
      ],
      "execution_count": 75,
      "outputs": []
    },
    {
      "cell_type": "code",
      "metadata": {
        "id": "7V2CmWkSF8QA",
        "colab_type": "code",
        "colab": {}
      },
      "source": [
        "from sklearn.model_selection import train_test_split\n",
        "X_train, X_test, y_train, y_test = train_test_split(X, Y, test_size = 0.2, random_state = 2)\n"
      ],
      "execution_count": 76,
      "outputs": []
    },
    {
      "cell_type": "code",
      "metadata": {
        "id": "HrPNsxMvE1qm",
        "colab_type": "code",
        "colab": {
          "base_uri": "https://localhost:8080/",
          "height": 52
        },
        "outputId": "657730dc-5b7d-404a-fb9b-d891ec580eac"
      },
      "source": [
        "print('Train set:', X_train.shape)\n",
        "print('Train set:', X_test.shape)"
      ],
      "execution_count": 78,
      "outputs": [
        {
          "output_type": "stream",
          "text": [
            "Train set: (10967, 728)\n",
            "Train set: (2742, 728)\n"
          ],
          "name": "stdout"
        }
      ]
    },
    {
      "cell_type": "markdown",
      "metadata": {
        "id": "7wyMY6eVTS53",
        "colab_type": "text"
      },
      "source": [
        "# K Nearest Neighbor"
      ]
    },
    {
      "cell_type": "code",
      "metadata": {
        "id": "aBZ9rpEOTQZs",
        "colab_type": "code",
        "colab": {}
      },
      "source": [
        "from sklearn.neighbors import KNeighborsClassifier\n",
        "k=25"
      ],
      "execution_count": 79,
      "outputs": []
    },
    {
      "cell_type": "code",
      "metadata": {
        "id": "e-wJlrahThK7",
        "colab_type": "code",
        "colab": {
          "base_uri": "https://localhost:8080/",
          "height": 35
        },
        "outputId": "face0c79-f4ed-4cc6-d41c-6aa10ed87606"
      },
      "source": [
        "neigh= KNeighborsClassifier(n_neighbors=k).fit(X_train, y_train)\n",
        "neigh\n",
        "Kyhat= neigh.predict(X_test)\n",
        "Kyhat[0:5]"
      ],
      "execution_count": 80,
      "outputs": [
        {
          "output_type": "execute_result",
          "data": {
            "text/plain": [
              "array([1, 1, 2, 1, 1])"
            ]
          },
          "metadata": {
            "tags": []
          },
          "execution_count": 80
        }
      ]
    },
    {
      "cell_type": "markdown",
      "metadata": {
        "id": "3prpcOONV80O",
        "colab_type": "text"
      },
      "source": [
        "# Evaluation Metrics"
      ]
    },
    {
      "cell_type": "code",
      "metadata": {
        "id": "rPoMTpzLUEkq",
        "colab_type": "code",
        "colab": {
          "base_uri": "https://localhost:8080/",
          "height": 89
        },
        "outputId": "52a0e353-6626-4dd2-cb15-f402cc18a804"
      },
      "source": [
        "jaccard_similarity_score(y_test, Kyhat)"
      ],
      "execution_count": 81,
      "outputs": [
        {
          "output_type": "stream",
          "text": [
            "/usr/local/lib/python3.6/dist-packages/sklearn/metrics/_classification.py:664: FutureWarning: jaccard_similarity_score has been deprecated and replaced with jaccard_score. It will be removed in version 0.23. This implementation has surprising behavior for binary and multiclass classification tasks.\n",
            "  FutureWarning)\n"
          ],
          "name": "stderr"
        },
        {
          "output_type": "execute_result",
          "data": {
            "text/plain": [
              "0.7370532458059811"
            ]
          },
          "metadata": {
            "tags": []
          },
          "execution_count": 81
        }
      ]
    },
    {
      "cell_type": "code",
      "metadata": {
        "id": "0qBlwOnCUX-q",
        "colab_type": "code",
        "colab": {
          "base_uri": "https://localhost:8080/",
          "height": 35
        },
        "outputId": "797c745a-213c-41eb-8bef-89f9dba5a1c4"
      },
      "source": [
        "f1_score(y_test, Kyhat, average='macro')"
      ],
      "execution_count": 82,
      "outputs": [
        {
          "output_type": "execute_result",
          "data": {
            "text/plain": [
              "0.6490627831864573"
            ]
          },
          "metadata": {
            "tags": []
          },
          "execution_count": 82
        }
      ]
    },
    {
      "cell_type": "code",
      "metadata": {
        "id": "9_B0DlfBUqlW",
        "colab_type": "code",
        "colab": {}
      },
      "source": [
        ""
      ],
      "execution_count": null,
      "outputs": []
    }
  ]
}